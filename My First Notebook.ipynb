{
 "cells": [
  {
   "cell_type": "markdown",
   "id": "f0bb092a",
   "metadata": {},
   "source": [
    "# My First Notebook"
   ]
  },
  {
   "cell_type": "markdown",
   "id": "5bfb84c1",
   "metadata": {},
   "source": [
    "## Introduction"
   ]
  },
  {
   "cell_type": "markdown",
   "id": "6e9a2e0a",
   "metadata": {},
   "source": [
    "\"Welcome to my project notebook. In this notebook, I will demonstrate several data science conepts including languages, libraries, and tools\""
   ]
  },
  {
   "cell_type": "markdown",
   "id": "b0de8325",
   "metadata": {},
   "source": [
    "\"as well as basic aritmentic and conversion operations in Python\""
   ]
  },
  {
   "cell_type": "markdown",
   "id": "30698862",
   "metadata": {},
   "source": [
    "## Data science Languages\n",
    "- Python\n",
    "- R\n",
    "- SQL\n",
    "- Julia"
   ]
  },
  {
   "cell_type": "markdown",
   "id": "667de526",
   "metadata": {},
   "source": [
    " ## Data Science Libraries\\n\n",
    "   - Pandas\\n\n",
    "   - NumPy\\n\n",
    "   - Matplotlib\\n\n",
    "   - Scikit-learn\\n\n",
    "   - TensorFlow\\n\n",
    "   - Keras"
   ]
  },
  {
   "cell_type": "markdown",
   "id": "f6e5bcb2",
   "metadata": {},
   "source": [
    "## Data Science Tools Table\n",
    "\n",
    "| Tool              | Description                                  |\n",
    "|-------------------|----------------------------------------------|\n",
    "| Jupyter Notebook  | Interactive computing environment            |\n",
    "| RStudio           | Integrated development environment for R     |\n",
    "| VS Code           | Versatile code editor with extensions        |\n",
    "| Git               | Version control system                       |\n",
    "| Docker            | Containerization platform                    |\n"
   ]
  },
  {
   "cell_type": "markdown",
   "id": "118899a0",
   "metadata": {},
   "source": [
    "## Arithmetic Expression Examples\\n\n",
    "    Below are some examples of simple arithmetic expressions using Python."
   ]
  },
  {
   "cell_type": "code",
   "execution_count": 8,
   "id": "97552874",
   "metadata": {},
   "outputs": [
    {
     "name": "stdout",
     "output_type": "stream",
     "text": [
      "55\n"
     ]
    }
   ],
   "source": [
    "# Multiply and add numbers\n",
    "a = 5\n",
    "b = 10\n",
    "result = a * b + a  # This calculates (5 * 10) + 5\\n\n",
    "print(result)"
   ]
  },
  {
   "cell_type": "code",
   "execution_count": 10,
   "id": "481b7653",
   "metadata": {},
   "outputs": [
    {
     "name": "stdout",
     "output_type": "stream",
     "text": [
      "150 minutes is equal to 2.5 hours\n"
     ]
    }
   ],
   "source": [
    "# Convert minutes to hours\\n\n",
    "minutes = 150\n",
    "hours = minutes / 60  # There are 60 minutes in an hour\\n\n",
    "print(f'{minutes} minutes is equal to {hours} hours')"
   ]
  },
  {
   "cell_type": "markdown",
   "id": "dffce855",
   "metadata": {},
   "source": [
    "## Objectives\n",
    "- Understand key data science languages and libraries\n",
    "- Explore various data science tools\n",
    "- Practice arithmetic operations and conversion in Python\n",
    "- Demonstrate basic notebook formatting and code execution"
   ]
  },
  {
   "cell_type": "markdown",
   "id": "8fb4b661",
   "metadata": {},
   "source": [
    "##  **Author:** Farhan"
   ]
  },
  {
   "cell_type": "markdown",
   "id": "1288ca22",
   "metadata": {},
   "source": [
    "## GitHub Sharing\n",
    "\n",
    "\n",
    "    This notebook has been shared on GitHub. You can find it at:\\n\n",
    "    [GitHub Repository Link](https://github.com/yourusername/yourrepository)"
   ]
  },
  {
   "cell_type": "code",
   "execution_count": null,
   "id": "8ba65987",
   "metadata": {},
   "outputs": [],
   "source": []
  }
 ],
 "metadata": {
  "kernelspec": {
   "display_name": "Python 3",
   "language": "python",
   "name": "python3"
  },
  "language_info": {
   "codemirror_mode": {
    "name": "ipython",
    "version": 3
   },
   "file_extension": ".py",
   "mimetype": "text/x-python",
   "name": "python",
   "nbconvert_exporter": "python",
   "pygments_lexer": "ipython3",
   "version": "3.8.8"
  }
 },
 "nbformat": 4,
 "nbformat_minor": 5
}
